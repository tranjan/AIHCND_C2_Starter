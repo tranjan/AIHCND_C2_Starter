{
 "cells": [
  {
   "cell_type": "code",
   "execution_count": 1,
   "metadata": {},
   "outputs": [],
   "source": [
    "import numpy as np # linear algebra\n",
    "import pandas as pd # data processing, CSV file I/O (e.g. pd.read_csv)\n",
    "import os\n",
    "from glob import glob\n",
    "%matplotlib inline\n",
    "import matplotlib.pyplot as plt\n",
    "import seaborn as sns\n",
    "\n",
    "from scipy.stats import pearsonr"
   ]
  },
  {
   "cell_type": "code",
   "execution_count": 2,
   "metadata": {},
   "outputs": [
    {
     "data": {
      "text/html": [
       "<div>\n",
       "<style scoped>\n",
       "    .dataframe tbody tr th:only-of-type {\n",
       "        vertical-align: middle;\n",
       "    }\n",
       "\n",
       "    .dataframe tbody tr th {\n",
       "        vertical-align: top;\n",
       "    }\n",
       "\n",
       "    .dataframe thead th {\n",
       "        text-align: right;\n",
       "    }\n",
       "</style>\n",
       "<table border=\"1\" class=\"dataframe\">\n",
       "  <thead>\n",
       "    <tr style=\"text-align: right;\">\n",
       "      <th></th>\n",
       "      <th>Image Index</th>\n",
       "      <th>Finding Labels</th>\n",
       "      <th>Follow-up #</th>\n",
       "      <th>Patient ID</th>\n",
       "      <th>Patient Age</th>\n",
       "      <th>Patient Gender</th>\n",
       "      <th>View Position</th>\n",
       "      <th>OriginalImageWidth</th>\n",
       "      <th>OriginalImageHeight</th>\n",
       "      <th>OriginalImagePixelSpacing_x</th>\n",
       "      <th>OriginalImagePixelSpacing_y</th>\n",
       "    </tr>\n",
       "  </thead>\n",
       "  <tbody>\n",
       "    <tr>\n",
       "      <th>1905</th>\n",
       "      <td>00009993_000.png</td>\n",
       "      <td>No Finding</td>\n",
       "      <td>0</td>\n",
       "      <td>9993</td>\n",
       "      <td>044Y</td>\n",
       "      <td>F</td>\n",
       "      <td>AP</td>\n",
       "      <td>2500</td>\n",
       "      <td>2048</td>\n",
       "      <td>0.168</td>\n",
       "      <td>0.168</td>\n",
       "    </tr>\n",
       "    <tr>\n",
       "      <th>2578</th>\n",
       "      <td>00012931_033.png</td>\n",
       "      <td>No Finding</td>\n",
       "      <td>33</td>\n",
       "      <td>12931</td>\n",
       "      <td>047Y</td>\n",
       "      <td>F</td>\n",
       "      <td>AP</td>\n",
       "      <td>2500</td>\n",
       "      <td>2048</td>\n",
       "      <td>0.168</td>\n",
       "      <td>0.168</td>\n",
       "    </tr>\n",
       "    <tr>\n",
       "      <th>1974</th>\n",
       "      <td>00010335_000.png</td>\n",
       "      <td>Nodule</td>\n",
       "      <td>0</td>\n",
       "      <td>10335</td>\n",
       "      <td>051Y</td>\n",
       "      <td>F</td>\n",
       "      <td>PA</td>\n",
       "      <td>2370</td>\n",
       "      <td>2801</td>\n",
       "      <td>0.143</td>\n",
       "      <td>0.143</td>\n",
       "    </tr>\n",
       "  </tbody>\n",
       "</table>\n",
       "</div>"
      ],
      "text/plain": [
       "           Image Index Finding Labels  Follow-up #  Patient ID Patient Age  \\\n",
       "1905  00009993_000.png     No Finding            0        9993        044Y   \n",
       "2578  00012931_033.png     No Finding           33       12931        047Y   \n",
       "1974  00010335_000.png         Nodule            0       10335        051Y   \n",
       "\n",
       "     Patient Gender View Position  OriginalImageWidth  OriginalImageHeight  \\\n",
       "1905              F            AP                2500                 2048   \n",
       "2578              F            AP                2500                 2048   \n",
       "1974              F            PA                2370                 2801   \n",
       "\n",
       "      OriginalImagePixelSpacing_x  OriginalImagePixelSpacing_y  \n",
       "1905                        0.168                        0.168  \n",
       "2578                        0.168                        0.168  \n",
       "1974                        0.143                        0.143  "
      ]
     },
     "execution_count": 2,
     "metadata": {},
     "output_type": "execute_result"
    }
   ],
   "source": [
    "## Below is some helper code to read all of your full image filepaths into a dataframe for easier manipulation\n",
    "\n",
    "all_xray_df = pd.read_csv('/data/Data_Entry_2017.csv')\n",
    "all_xray_df.sample(3)\n",
    "\n",
    "data_sample = pd.read_csv('sample_labels.csv')\n",
    "data_sample.sample(3)"
   ]
  },
  {
   "cell_type": "markdown",
   "metadata": {},
   "source": [
    "EDA is open-ended, and it is up to you to decide how to look at different ways to slice and dice your data. A good starting point is to look at the requirements for the FDA documentation in the final part of this project to guide (some) of the analyses you do. \n",
    "\n",
    "This EDA should also help to inform you of how pneumonia looks in the wild. E.g. what other types of diseases it's commonly found with, how often it is found, what ages it affects, etc. \n",
    "\n",
    "Note that this NIH dataset was not specifically acquired for pneumonia. So, while this is a representation of 'pneumonia in the wild,' the prevalence of pneumonia may be different if you were to take only chest x-rays that were acquired in an ER setting with suspicion of pneumonia. "
   ]
  },
  {
   "cell_type": "markdown",
   "metadata": {},
   "source": [
    "Also, **describe your findings and how will you set up the model training based on the findings.**"
   ]
  },
  {
   "cell_type": "code",
   "execution_count": 3,
   "metadata": {},
   "outputs": [],
   "source": [
    "all_diseases = set()\n",
    "for finding in all_xray_df['Finding Labels']:\n",
    "    for disease in finding.split('|'):\n",
    "        all_diseases.add(disease)\n",
    "\n",
    "all_diseases = list(all_diseases)\n",
    "for disease in all_diseases:\n",
    "    all_xray_df[disease] = all_xray_df['Finding Labels'].map(lambda x: disease in x.split('|')).astype(int)"
   ]
  },
  {
   "cell_type": "code",
   "execution_count": 4,
   "metadata": {
    "scrolled": true
   },
   "outputs": [
    {
     "data": {
      "text/html": [
       "<div>\n",
       "<style scoped>\n",
       "    .dataframe tbody tr th:only-of-type {\n",
       "        vertical-align: middle;\n",
       "    }\n",
       "\n",
       "    .dataframe tbody tr th {\n",
       "        vertical-align: top;\n",
       "    }\n",
       "\n",
       "    .dataframe thead th {\n",
       "        text-align: right;\n",
       "    }\n",
       "</style>\n",
       "<table border=\"1\" class=\"dataframe\">\n",
       "  <thead>\n",
       "    <tr style=\"text-align: right;\">\n",
       "      <th></th>\n",
       "      <th>Image Index</th>\n",
       "      <th>Finding Labels</th>\n",
       "      <th>Follow-up #</th>\n",
       "      <th>Patient ID</th>\n",
       "      <th>Patient Age</th>\n",
       "      <th>Patient Gender</th>\n",
       "      <th>View Position</th>\n",
       "      <th>OriginalImage[Width</th>\n",
       "      <th>Height]</th>\n",
       "      <th>OriginalImagePixelSpacing[x</th>\n",
       "      <th>...</th>\n",
       "      <th>Emphysema</th>\n",
       "      <th>Mass</th>\n",
       "      <th>Effusion</th>\n",
       "      <th>Cardiomegaly</th>\n",
       "      <th>Infiltration</th>\n",
       "      <th>Fibrosis</th>\n",
       "      <th>Consolidation</th>\n",
       "      <th>Pleural_Thickening</th>\n",
       "      <th>Edema</th>\n",
       "      <th>Nodule</th>\n",
       "    </tr>\n",
       "  </thead>\n",
       "  <tbody>\n",
       "    <tr>\n",
       "      <th>3045</th>\n",
       "      <td>00000808_003.png</td>\n",
       "      <td>No Finding</td>\n",
       "      <td>3</td>\n",
       "      <td>808</td>\n",
       "      <td>51</td>\n",
       "      <td>F</td>\n",
       "      <td>AP</td>\n",
       "      <td>3056</td>\n",
       "      <td>2544</td>\n",
       "      <td>0.139</td>\n",
       "      <td>...</td>\n",
       "      <td>0</td>\n",
       "      <td>0</td>\n",
       "      <td>0</td>\n",
       "      <td>0</td>\n",
       "      <td>0</td>\n",
       "      <td>0</td>\n",
       "      <td>0</td>\n",
       "      <td>0</td>\n",
       "      <td>0</td>\n",
       "      <td>0</td>\n",
       "    </tr>\n",
       "    <tr>\n",
       "      <th>77640</th>\n",
       "      <td>00019087_026.png</td>\n",
       "      <td>Infiltration</td>\n",
       "      <td>26</td>\n",
       "      <td>19087</td>\n",
       "      <td>33</td>\n",
       "      <td>M</td>\n",
       "      <td>AP</td>\n",
       "      <td>2500</td>\n",
       "      <td>2048</td>\n",
       "      <td>0.168</td>\n",
       "      <td>...</td>\n",
       "      <td>0</td>\n",
       "      <td>0</td>\n",
       "      <td>0</td>\n",
       "      <td>0</td>\n",
       "      <td>1</td>\n",
       "      <td>0</td>\n",
       "      <td>0</td>\n",
       "      <td>0</td>\n",
       "      <td>0</td>\n",
       "      <td>0</td>\n",
       "    </tr>\n",
       "    <tr>\n",
       "      <th>7097</th>\n",
       "      <td>00001876_000.png</td>\n",
       "      <td>Infiltration</td>\n",
       "      <td>0</td>\n",
       "      <td>1876</td>\n",
       "      <td>54</td>\n",
       "      <td>M</td>\n",
       "      <td>PA</td>\n",
       "      <td>2048</td>\n",
       "      <td>2500</td>\n",
       "      <td>0.171</td>\n",
       "      <td>...</td>\n",
       "      <td>0</td>\n",
       "      <td>0</td>\n",
       "      <td>0</td>\n",
       "      <td>0</td>\n",
       "      <td>1</td>\n",
       "      <td>0</td>\n",
       "      <td>0</td>\n",
       "      <td>0</td>\n",
       "      <td>0</td>\n",
       "      <td>0</td>\n",
       "    </tr>\n",
       "  </tbody>\n",
       "</table>\n",
       "<p>3 rows × 27 columns</p>\n",
       "</div>"
      ],
      "text/plain": [
       "            Image Index Finding Labels  Follow-up #  Patient ID  Patient Age  \\\n",
       "3045   00000808_003.png     No Finding            3         808           51   \n",
       "77640  00019087_026.png   Infiltration           26       19087           33   \n",
       "7097   00001876_000.png   Infiltration            0        1876           54   \n",
       "\n",
       "      Patient Gender View Position  OriginalImage[Width  Height]  \\\n",
       "3045               F            AP                 3056     2544   \n",
       "77640              M            AP                 2500     2048   \n",
       "7097               M            PA                 2048     2500   \n",
       "\n",
       "       OriginalImagePixelSpacing[x  ...  Emphysema  Mass  Effusion  \\\n",
       "3045                         0.139  ...          0     0         0   \n",
       "77640                        0.168  ...          0     0         0   \n",
       "7097                         0.171  ...          0     0         0   \n",
       "\n",
       "       Cardiomegaly  Infiltration  Fibrosis  Consolidation  \\\n",
       "3045              0             0         0              0   \n",
       "77640             0             1         0              0   \n",
       "7097              0             1         0              0   \n",
       "\n",
       "       Pleural_Thickening  Edema  Nodule  \n",
       "3045                    0      0       0  \n",
       "77640                   0      0       0  \n",
       "7097                    0      0       0  \n",
       "\n",
       "[3 rows x 27 columns]"
      ]
     },
     "execution_count": 4,
     "metadata": {},
     "output_type": "execute_result"
    }
   ],
   "source": [
    "all_xray_df.sample(3)"
   ]
  },
  {
   "cell_type": "code",
   "execution_count": 5,
   "metadata": {},
   "outputs": [
    {
     "name": "stdout",
     "output_type": "stream",
     "text": [
      "Pneumonia-positive: 1431 (1.2763110952550838 %)\n",
      "Total: 112120\n"
     ]
    }
   ],
   "source": [
    "pneumonia_pos_df = all_xray_df[all_xray_df['Pneumonia'] == 1]\n",
    "total_pneumonia = pneumonia_pos_df.shape[0]\n",
    "total = all_xray_df.shape[0]\n",
    "percentage = (100.0 * total_pneumonia) / total\n",
    "print(\"Pneumonia-positive: {} ({} %)\".format(total_pneumonia, percentage))\n",
    "print(\"Total: {}\".format(total))"
   ]
  },
  {
   "cell_type": "markdown",
   "metadata": {},
   "source": [
    "There is clearly a class imbalance. Out of 112,120 X-rays, only 1430 of them (approximately 1.28%) are marked as positive for having pneumonia."
   ]
  },
  {
   "cell_type": "code",
   "execution_count": 6,
   "metadata": {},
   "outputs": [
    {
     "data": {
      "text/plain": [
       "<matplotlib.axes._subplots.AxesSubplot at 0x7f58d9645dd0>"
      ]
     },
     "execution_count": 6,
     "metadata": {},
     "output_type": "execute_result"
    },
    {
     "data": {
      "image/png": "[encoded data removed]",
      "text/plain": [
       "<Figure size 432x288 with 1 Axes>"
      ]
     },
     "metadata": {
      "needs_background": "light"
     },
     "output_type": "display_data"
    }
   ],
   "source": [
    "all_xray_df['Patient Age'].hist(bins=20)"
   ]
  },
  {
   "cell_type": "markdown",
   "metadata": {},
   "source": [
    "There seem to be some outliers. The longest human lifespan in recorded history is 122 years. "
   ]
  },
  {
   "cell_type": "code",
   "execution_count": 7,
   "metadata": {},
   "outputs": [
    {
     "name": "stdout",
     "output_type": "stream",
     "text": [
      "(16,)\n"
     ]
    }
   ],
   "source": [
    "ages_over_122 = all_xray_df[all_xray_df['Patient Age'] > 122]['Patient Age']\n",
    "print(ages_over_122.shape)"
   ]
  },
  {
   "cell_type": "code",
   "execution_count": 8,
   "metadata": {},
   "outputs": [
    {
     "data": {
      "text/plain": [
       "20852     412\n",
       "46965     414\n",
       "48284     148\n",
       "55742     148\n",
       "58650     150\n",
       "62929     149\n",
       "74884     152\n",
       "78795     151\n",
       "84810     411\n",
       "85404     412\n",
       "86264     413\n",
       "91369     412\n",
       "95794     153\n",
       "98495     154\n",
       "101194    155\n",
       "104590    155\n",
       "Name: Patient Age, dtype: int64"
      ]
     },
     "execution_count": 8,
     "metadata": {},
     "output_type": "execute_result"
    }
   ],
   "source": [
    "ages_over_122"
   ]
  },
  {
   "cell_type": "markdown",
   "metadata": {},
   "source": [
    "There are only 16 records (out of over 112,000) for which the ages are over 122. It's safe to assume that these are the result of errors in data entry and that they can be ignored when analyzing age distribution."
   ]
  },
  {
   "cell_type": "code",
   "execution_count": 9,
   "metadata": {
    "scrolled": false
   },
   "outputs": [
    {
     "name": "stdout",
     "output_type": "stream",
     "text": [
      "Overall Age Statistics:\n",
      "- Mean: 46.872573681581386\n",
      "- Median: 49.0\n",
      "- Standard deviation: 16.598151885747132\n",
      "- 50% of X-rays in age range 35.0 - 59.0\n",
      "- 75% of X-rays in age range 25.0 - 65.0\n",
      "Pneumonia Age Statistics:\n",
      "- Mean: 44.67062937062937\n",
      "- Median: 46.0\n",
      "- Standard deviation: 17.639097629242386\n",
      "- 50% of X-rays in age range 31.0 - 59.0\n",
      "- 75% of X-rays in age range 23.0 - 65.0\n"
     ]
    },
    {
     "data": {
      "image/png": "[encoded data removed]",
      "text/plain": [
       "<Figure size 1008x504 with 2 Axes>"
      ]
     },
     "metadata": {
      "needs_background": "light"
     },
     "output_type": "display_data"
    }
   ],
   "source": [
    "f = plt.figure(figsize=(14,7))\n",
    "ax = f.add_subplot(121)\n",
    "ax2 = f.add_subplot(122)\n",
    "\n",
    "all_age_filtered_df = all_xray_df[all_xray_df['Patient Age'] <= 122]\n",
    "pneumonia_age_filtered_df = all_age_filtered_df[all_age_filtered_df['Pneumonia'] == 1]\n",
    "\n",
    "overall_ages = all_age_filtered_df['Patient Age']\n",
    "pneumonia_ages = pneumonia_age_filtered_df['Patient Age']\n",
    "\n",
    "ax.hist(overall_ages, bins=50)\n",
    "ax.set_title('Overall Relative Age Distribution')\n",
    "ax2.hist(pneumonia_ages, bins=50)\n",
    "ax2.set_title('Pneumonia Relative Age Distribution')\n",
    "\n",
    "print(\"Overall Age Statistics:\")\n",
    "print(\"- Mean: {}\".format(overall_ages.mean()))\n",
    "print(\"- Median: {}\".format(overall_ages.median()))\n",
    "print(\"- Standard deviation: {}\".format(overall_ages.std()))\n",
    "print(\"- 50% of X-rays in age range {} - {}\".format(overall_ages.quantile(0.25), overall_ages.quantile(0.75)))\n",
    "print(\"- 75% of X-rays in age range {} - {}\".format(overall_ages.quantile(0.125), overall_ages.quantile(0.875)))\n",
    "\n",
    "print(\"Pneumonia Age Statistics:\")\n",
    "print(\"- Mean: {}\".format(pneumonia_ages.mean()))\n",
    "print(\"- Median: {}\".format(pneumonia_ages.median()))\n",
    "print(\"- Standard deviation: {}\".format(pneumonia_ages.std()))\n",
    "print(\"- 50% of X-rays in age range {} - {}\".format(pneumonia_ages.quantile(0.25), pneumonia_ages.quantile(0.75)))\n",
    "print(\"- 75% of X-rays in age range {} - {}\".format(pneumonia_ages.quantile(0.125), pneumonia_ages.quantile(0.875)))"
   ]
  },
  {
   "cell_type": "code",
   "execution_count": 10,
   "metadata": {},
   "outputs": [
    {
     "data": {
      "text/plain": [
       "(-0.01507973637273614, 4.4362142784372045e-07)"
      ]
     },
     "execution_count": 10,
     "metadata": {},
     "output_type": "execute_result"
    }
   ],
   "source": [
    "pearsonr(all_age_filtered_df['Patient Age'], all_age_filtered_df['Pneumonia'])"
   ]
  },
  {
   "cell_type": "markdown",
   "metadata": {},
   "source": [
    "The Pearson correlation coefficient for age and pneumonia status is -0.015, with a p-value of 4.4e-7. This shows that, while there clearly is a correlation, that correlation is very minor. Additionally, the age distributions for the overall dataset and for the pneumonia-positive X-rays are roughly the same."
   ]
  },
  {
   "cell_type": "code",
   "execution_count": 11,
   "metadata": {},
   "outputs": [
    {
     "data": {
      "text/plain": [
       "Text(0.5, 1.0, 'Overall Gender Distribution: 58.56044723969252% Male')"
      ]
     },
     "execution_count": 11,
     "metadata": {},
     "output_type": "execute_result"
    },
    {
     "data": {
      "image/png": "[encoded data removed]",
      "text/plain": [
       "<Figure size 1008x504 with 2 Axes>"
      ]
     },
     "metadata": {
      "needs_background": "light"
     },
     "output_type": "display_data"
    }
   ],
   "source": [
    "f = plt.figure(figsize=(14,7))\n",
    "ax = f.add_subplot(121)\n",
    "ax2 = f.add_subplot(122)\n",
    "\n",
    "overall_ages = all_xray_df['Patient Gender'].value_counts()\n",
    "pneumonia_ages = pneumonia_pos_df['Patient Gender'].value_counts()\n",
    "\n",
    "overall_male = (100.0 * overall_ages['M']) / all_xray_df.shape[0]\n",
    "pneumonia_male = (100.0 * pneumonia_ages['M']) / pneumonia_pos_df.shape[0]\n",
    "\n",
    "overall_ages.plot(kind='bar', ax=ax)\n",
    "ax.set_title('Overall Gender Distribution: {}% Male'.format(overall_male))\n",
    "pneumonia_ages.plot(kind='bar', ax=ax2)\n",
    "ax2.set_title('Overall Gender Distribution: {}% Male'.format(pneumonia_male))"
   ]
  },
  {
   "cell_type": "code",
   "execution_count": 12,
   "metadata": {},
   "outputs": [
    {
     "data": {
      "text/plain": [
       "(0.004741503918080045, 0.11236510017963604)"
      ]
     },
     "execution_count": 12,
     "metadata": {},
     "output_type": "execute_result"
    }
   ],
   "source": [
    "pearsonr(all_xray_df['Patient Gender'] == 'M', all_xray_df['Pneumonia'])"
   ]
  },
  {
   "cell_type": "markdown",
   "metadata": {},
   "source": [
    "There does not appear to be any correlation between gender and having pneumonia. The gender breakdown for the overall dataset and for the X-rays that show pneumonia are roughly the same (56% vs 58%)."
   ]
  },
  {
   "cell_type": "code",
   "execution_count": 13,
   "metadata": {},
   "outputs": [
    {
     "data": {
      "text/plain": [
       "Text(0.5, 1.0, 'Overall Position Distribution: 44.0251572327044% PA')"
      ]
     },
     "execution_count": 13,
     "metadata": {},
     "output_type": "execute_result"
    },
    {
     "data": {
      "image/png": "[encoded data removed]",
      "text/plain": [
       "<Figure size 1008x504 with 2 Axes>"
      ]
     },
     "metadata": {
      "needs_background": "light"
     },
     "output_type": "display_data"
    }
   ],
   "source": [
    "f = plt.figure(figsize=(14,7))\n",
    "ax = f.add_subplot(121)\n",
    "ax2 = f.add_subplot(122)\n",
    "\n",
    "overall_positions = all_xray_df['View Position'].value_counts()\n",
    "pneumonia_positions = pneumonia_pos_df['View Position'].value_counts()\n",
    "\n",
    "overall_pa = (100.0 * overall_positions['PA']) / all_xray_df.shape[0]\n",
    "pneumonia_pa = (100.0 * pneumonia_positions['PA']) / pneumonia_pos_df.shape[0]\n",
    "\n",
    "overall_positions.plot(kind='bar', ax=ax)\n",
    "ax.set_title('Overall Position Distribution: {}% PA'.format(overall_pa))\n",
    "pneumonia_positions.plot(kind='bar', ax=ax2)\n",
    "ax2.set_title('Overall Position Distribution: {}% PA'.format(pneumonia_pa))"
   ]
  },
  {
   "cell_type": "code",
   "execution_count": 14,
   "metadata": {},
   "outputs": [
    {
     "data": {
      "text/plain": [
       "(-0.03716040367245936, 1.4507331350242956e-35)"
      ]
     },
     "execution_count": 14,
     "metadata": {},
     "output_type": "execute_result"
    }
   ],
   "source": [
    "pearsonr(all_xray_df['View Position'] == 'PA', all_xray_df['Pneumonia'])"
   ]
  },
  {
   "cell_type": "markdown",
   "metadata": {},
   "source": [
    "The Pearson correlation coefficient for view position and pneumonia status is -0.037, with a p-value of 2e-35. The overall dataset is about 60% PA, whereas the X-rays that show pneumonia are only 44% PA. This shows that X-rays that are in the \"AP\" position are more likely to show pneumonia."
   ]
  },
  {
   "cell_type": "markdown",
   "metadata": {},
   "source": [
    "There are many patients who have multiple X-rays in this dataset, as shown by the \"Follow-up #\" column. The distribution of this value is shown below."
   ]
  },
  {
   "cell_type": "code",
   "execution_count": 15,
   "metadata": {
    "scrolled": false
   },
   "outputs": [
    {
     "data": {
      "text/plain": [
       "Text(0.5, 1.0, 'Pneumonia Follow-up # Distribution')"
      ]
     },
     "execution_count": 15,
     "metadata": {},
     "output_type": "execute_result"
    },
    {
     "data": {
      "image/png": "[encoded data removed]",
      "text/plain": [
       "<Figure size 1008x504 with 2 Axes>"
      ]
     },
     "metadata": {
      "needs_background": "light"
     },
     "output_type": "display_data"
    }
   ],
   "source": [
    "f = plt.figure(figsize=(14,7))\n",
    "ax = f.add_subplot(121)\n",
    "ax2 = f.add_subplot(122)\n",
    "\n",
    "overall_follow_up = all_xray_df['Follow-up #']\n",
    "pneumonia_follow_up = pneumonia_pos_df['Follow-up #']\n",
    "\n",
    "ax.hist(overall_follow_up, bins=50)\n",
    "ax.set_title('Overall Follow-up # Distribution')\n",
    "ax2.hist(pneumonia_follow_up, bins=50)\n",
    "ax2.set_title('Pneumonia Follow-up # Distribution')"
   ]
  },
  {
   "cell_type": "code",
   "execution_count": 16,
   "metadata": {
    "scrolled": true
   },
   "outputs": [
    {
     "data": {
      "text/plain": [
       "(0.04321367428475321, 1.7079276075149824e-47)"
      ]
     },
     "execution_count": 16,
     "metadata": {},
     "output_type": "execute_result"
    }
   ],
   "source": [
    "pearsonr(all_xray_df['Follow-up #'], all_xray_df['Pneumonia'])"
   ]
  },
  {
   "cell_type": "markdown",
   "metadata": {},
   "source": [
    "The Pearson correlation coefficient for follow-up number and whether an X-ray shows pneumonia is 0.04, with a p-value of 1.3e-347. This shows that an X-ray is more likely to show pneumonia if it is a higher follow-up number."
   ]
  },
  {
   "cell_type": "markdown",
   "metadata": {},
   "source": [
    "Another question to consider is which other diseases are most strongly correlated with pneumonia. To answer this question, only diseases with correlation coefficients for which the p-value is less than 0.05 will be considered."
   ]
  },
  {
   "cell_type": "code",
   "execution_count": 17,
   "metadata": {},
   "outputs": [
    {
     "name": "stdout",
     "output_type": "stream",
     "text": [
      "Pneumothorax\n",
      "- Correlation: -0.009983715702987932\n",
      "- P-value 0.0008287018933926505\n",
      "Atelectasis\n",
      "- Correlation: 0.029911097888098575\n",
      "- P-value 1.274871741292356e-23\n",
      "Effusion\n",
      "- Correlation: 0.024322351850950105\n",
      "- P-value 3.7837610814725215e-16\n",
      "Infiltration\n",
      "- Correlation: 0.07302012740836605\n",
      "- P-value 2.2575244751557635e-132\n",
      "Fibrosis\n",
      "- Correlation: -0.006867347166726319\n",
      "- P-value 0.02147734055129956\n",
      "Consolidation\n",
      "- Correlation: 0.0252353194733541\n",
      "- P-value 2.8850219342268904e-17\n",
      "Edema\n",
      "- Correlation: 0.17399625506130395\n",
      "- P-value 0.0\n"
     ]
    }
   ],
   "source": [
    "for disease in all_diseases:\n",
    "    if disease in ['Pneumonia', 'No Finding']:\n",
    "        continue\n",
    "    coeff, p_value = pearsonr(all_xray_df['Pneumonia'], all_xray_df[disease])\n",
    "    if p_value < 0.05:\n",
    "        print(disease)\n",
    "        print('- Correlation:', coeff)\n",
    "        print('- P-value', p_value)"
   ]
  },
  {
   "cell_type": "markdown",
   "metadata": {},
   "source": [
    "<h5>Conclusions</h5>"
   ]
  },
  {
   "cell_type": "markdown",
   "metadata": {},
   "source": [
    "- The dataset consists of 112,120 X-rays, out of which 1430 (or about 1.28%) are marked as positive for pneumonia.\n",
    "- The X-rays were taken on men about 56% of the time. The overall gender ratio is roughly the same as the gender ratio for X-rays that show pneumonia.\n",
    "- For the overall dataset, the average age is 47, with a median age of 49 and a standard deviation of 17. For the X-rays that show pneumonia, the average age is 45, with a median age of 46 and a standard deviation of 18. There is a slight correlation between age and pneumonia-positivity (-0.015)\n",
    "- Overall, about 60% of the X-rays were taken in the PA position. However, only about 44% of the X-rays showing pneumonia were in the PA position. There is a correlation (-0.037) between the position being PA and the X-ray showing pneumonia.\n",
    "- It's more common for a patient to have fewer follow-ups. The more follow-ups a patient has, the more likely they are to have an X-ray that shows pneumonia. The correlation between follow-up number and having pneumonia is about 0.04.\n",
    "- The diseases that correlate with pneumonia are edema (0.174), infiltration (0.073), atelectasis (0.030), consolidation (0.025), effusion (0.024), fibrosis (-0.007), and pneumothorax (-0.010)."
   ]
  },
  {
   "cell_type": "code",
   "execution_count": null,
   "metadata": {},
   "outputs": [],
   "source": []
  }
 ],
 "metadata": {
  "kernelspec": {
   "display_name": "Python 3",
   "language": "python",
   "name": "python3"
  },
  "language_info": {
   "codemirror_mode": {
    "name": "ipython",
    "version": 3
   },
   "file_extension": ".py",
   "mimetype": "text/x-python",
   "name": "python",
   "nbconvert_exporter": "python",
   "pygments_lexer": "ipython3",
   "version": "3.7.6"
  }
 },
 "nbformat": 4,
 "nbformat_minor": 2
}
